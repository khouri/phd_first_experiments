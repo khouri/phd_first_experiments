{
 "cells": [
  {
   "cell_type": "markdown",
   "metadata": {},
   "source": [
    "# All response variables with the same name and type"
   ]
  },
  {
   "cell_type": "code",
   "execution_count": null,
   "metadata": {},
   "outputs": [],
   "source": [
    "import pandas as pd\n",
    "import numpy as np\n",
    "from datetime import timedelta, date\n",
    "import datetime as dt\n",
    "\n",
    "\n",
    "diabetes = pd.read_csv('data/datasets_228_482_diabetes.csv', sep = ',')\n",
    "heart = pd.read_csv('data/datasets_33180_43520_heart.csv', sep = ',')\n",
    "wine = pd.read_csv('data/datasets_794161_1363233_wine.csv', sep = ',')\n",
    "\n",
    "\n",
    "diabetes.rename({'Outcome' : 'target'}, inplace=True, axis=1)\n",
    "\n",
    "wine['target'] = np.select(\n",
    "    [\n",
    "        wine['quality'] == 'bad' , \n",
    "        wine['quality'] == 'good'\n",
    "    ], \n",
    "    [\n",
    "        0, \n",
    "        1\n",
    "    ]\n",
    ")\n",
    "\n",
    "# removing the old target\n",
    "wine = wine[wine.columns.drop(list(wine.filter(regex='quality')))]\n",
    "\n",
    "diabetes.to_csv('data/diabetes_limpo.csv', sep = ',')\n",
    "wine.to_csv('data/wine_limpo.csv', sep = ',')\n"
   ]
  },
  {
   "cell_type": "code",
   "execution_count": null,
   "metadata": {},
   "outputs": [],
   "source": []
  },
  {
   "cell_type": "code",
   "execution_count": null,
   "metadata": {},
   "outputs": [],
   "source": []
  },
  {
   "cell_type": "code",
   "execution_count": null,
   "metadata": {},
   "outputs": [],
   "source": []
  },
  {
   "cell_type": "code",
   "execution_count": null,
   "metadata": {},
   "outputs": [],
   "source": []
  }
 ],
 "metadata": {
  "kernelspec": {
   "display_name": "Python 3",
   "language": "python",
   "name": "python3"
  },
  "language_info": {
   "codemirror_mode": {
    "name": "ipython",
    "version": 3
   },
   "file_extension": ".py",
   "mimetype": "text/x-python",
   "name": "python",
   "nbconvert_exporter": "python",
   "pygments_lexer": "ipython3",
   "version": "3.6.6"
  }
 },
 "nbformat": 4,
 "nbformat_minor": 2
}
