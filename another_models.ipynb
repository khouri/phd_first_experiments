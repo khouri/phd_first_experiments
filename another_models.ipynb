{
 "cells": [
  {
   "cell_type": "code",
   "execution_count": 14,
   "metadata": {
    "ExecuteTime": {
     "end_time": "2020-08-09T03:53:42.424288Z",
     "start_time": "2020-08-09T03:53:39.404983Z"
    }
   },
   "outputs": [
    {
     "name": "stdout",
     "output_type": "stream",
     "text": [
      "3.00495\n",
      "0.0500825\n",
      "0.0008347083333333334\n"
     ]
    }
   ],
   "source": [
    "# import time\n",
    "import datetime\n",
    "# start = time.time()\n",
    "old = datetime.datetime.now()\n",
    "time.sleep(3)  # or do something more productive\n",
    "new = datetime.datetime.now()\n",
    "\n",
    "# done = time.time()\n",
    "elapsed = new - old\n",
    "# print(elapsed/60)\n",
    "# print(elapsed.seconds)\n",
    "print(elapsed.total_seconds())\n",
    "print(elapsed.total_seconds()/60)\n",
    "print(elapsed.total_seconds()/(60*60))\n",
    "\n",
    "\n",
    "\n",
    "# old_time = datetime.datetime.now()\n",
    "# print(old_time)\n",
    "# new_time = old_time - datetime.timedelta(hours=2, minutes=10)\n",
    "# print(new_time)\n",
    "\n"
   ]
  },
  {
   "cell_type": "markdown",
   "metadata": {},
   "source": [
    "# MLP"
   ]
  },
  {
   "cell_type": "code",
   "execution_count": 19,
   "metadata": {
    "ExecuteTime": {
     "end_time": "2020-08-09T13:50:30.153744Z",
     "start_time": "2020-08-09T13:50:29.804681Z"
    }
   },
   "outputs": [
    {
     "name": "stdout",
     "output_type": "stream",
     "text": [
      "# Tuning hyper-parameters for f1\n",
      "\n",
      "Best parameters set found on development set:\n",
      "\n",
      "{'learning_rate': 'constant', 'learning_rate_init': 0.001, 'solver': 'sgd'}\n",
      "\n",
      "Grid scores on development set:\n",
      "\n",
      "0.561 (+/-0.199) for {'learning_rate': 'constant', 'learning_rate_init': 0.001, 'solver': 'sgd'}\n",
      "\n",
      "Detailed classification report:\n",
      "\n",
      "The model is trained on the full development set.\n",
      "The scores are computed on the full evaluation set.\n",
      "\n",
      "              precision    recall  f1-score   support\n",
      "\n",
      "           0       0.71      0.82      0.76        33\n",
      "           1       0.84      0.74      0.79        43\n",
      "\n",
      "    accuracy                           0.78        76\n",
      "   macro avg       0.78      0.78      0.78        76\n",
      "weighted avg       0.78      0.78      0.78        76\n",
      "\n",
      "\n"
     ]
    }
   ],
   "source": [
    "import pandas as pd\n",
    "import numpy as np\n",
    "from datetime import timedelta, date\n",
    "import datetime as dt\n",
    "\n",
    "\n",
    "# diabetes = pd.read_csv('data/datasets_228_482_diabetes.csv', sep = ',')\n",
    "heart = pd.read_csv('data/datasets_33180_43520_heart.csv', sep = ',')\n",
    "# wine = pd.read_csv('data/datasets_794161_1363233_wine.csv', sep = ',')\n",
    "\n",
    "\n",
    "#https://scikit-learn.org/stable/auto_examples/model_selection/plot_grid_search_digits.html#sphx-glr-auto-examples-model-selection-plot-grid-search-digits-py\n",
    "import sys\n",
    "sys.path.append('./ml_helper')\n",
    "import ml_helper_train_model as model_train\n",
    "import ml_helper_serialize_model as serializer\n",
    "\n",
    "from sklearn.neural_network import MLPClassifier\n",
    "\n",
    "\n",
    "X = heart.loc[:, heart.columns != 'target']\n",
    "y = heart.target\n",
    "    \n",
    "tuned_parameters = [\n",
    "                    {'solver':['sgd'], 'learning_rate':['constant'], 'learning_rate_init':[0.001]}\n",
    "                   ]\n",
    "\n",
    "\n",
    "model = model_train.train_model(predictors = X,\n",
    "                                target = y,\n",
    "                                folds = 10,\n",
    "                                param_to_be_tunned = tuned_parameters,\n",
    "                                estimator = MLPClassifier())\n",
    "\n",
    "serializer.serialize_model(model = model, file_name = 'model/MLP_heart.pkl')\n"
   ]
  },
  {
   "cell_type": "code",
   "execution_count": null,
   "metadata": {},
   "outputs": [],
   "source": []
  },
  {
   "cell_type": "code",
   "execution_count": null,
   "metadata": {},
   "outputs": [],
   "source": []
  },
  {
   "cell_type": "markdown",
   "metadata": {},
   "source": [
    "# Random Forest"
   ]
  },
  {
   "cell_type": "code",
   "execution_count": 26,
   "metadata": {
    "ExecuteTime": {
     "end_time": "2020-08-09T22:20:05.718577Z",
     "start_time": "2020-08-09T22:20:05.507789Z"
    },
    "scrolled": false
   },
   "outputs": [
    {
     "name": "stdout",
     "output_type": "stream",
     "text": [
      "# Tuning hyper-parameters for f1\n",
      "\n",
      "Best parameters set found on development set:\n",
      "\n",
      "{'max_depth': 2, 'random_state': 0}\n",
      "\n",
      "Grid scores on development set:\n",
      "\n",
      "0.798 (+/-0.171) for {'max_depth': 2, 'random_state': 0}\n",
      "\n",
      "Detailed classification report:\n",
      "\n",
      "The model is trained on the full development set.\n",
      "The scores are computed on the full evaluation set.\n",
      "\n",
      "              precision    recall  f1-score   support\n",
      "\n",
      "           0       0.82      0.70      0.75        33\n",
      "           1       0.79      0.88      0.84        43\n",
      "\n",
      "    accuracy                           0.80        76\n",
      "   macro avg       0.81      0.79      0.79        76\n",
      "weighted avg       0.80      0.80      0.80        76\n",
      "\n",
      "\n"
     ]
    }
   ],
   "source": [
    "import pandas as pd\n",
    "import numpy as np\n",
    "from datetime import timedelta, date\n",
    "import datetime as dt\n",
    "\n",
    "heart = pd.read_csv('data/datasets_33180_43520_heart.csv', sep = ',')\n",
    "\n",
    "#https://scikit-learn.org/stable/auto_examples/model_selection/plot_grid_search_digits.html#sphx-glr-auto-examples-model-selection-plot-grid-search-digits-py\n",
    "import sys\n",
    "sys.path.append('./ml_helper')\n",
    "import ml_helper_train_model as model_train\n",
    "import ml_helper_serialize_model as serializer\n",
    "\n",
    "from sklearn.ensemble import RandomForestClassifier\n",
    "\n",
    "\n",
    "X = heart.loc[:, heart.columns != 'target']\n",
    "y = heart.target\n",
    "\n",
    "\n",
    "tuned_parameters = [\n",
    "                    {'max_depth':[2], 'random_state':[0]}\n",
    "                   ]\n",
    "\n",
    "\n",
    "model = model_train.train_model(predictors = X,\n",
    "                                target = y,\n",
    "                                folds = 10,\n",
    "                                param_to_be_tunned = tuned_parameters,\n",
    "                                estimator = RandomForestClassifier())\n",
    "\n",
    "serializer.serialize_model(model = model, file_name = 'model/RF_heart.pkl')\n"
   ]
  },
  {
   "cell_type": "code",
   "execution_count": null,
   "metadata": {},
   "outputs": [],
   "source": []
  },
  {
   "cell_type": "code",
   "execution_count": null,
   "metadata": {},
   "outputs": [],
   "source": []
  },
  {
   "cell_type": "markdown",
   "metadata": {},
   "source": [
    "# Naive Bayes"
   ]
  },
  {
   "cell_type": "code",
   "execution_count": 27,
   "metadata": {
    "ExecuteTime": {
     "end_time": "2020-08-09T22:26:33.141662Z",
     "start_time": "2020-08-09T22:26:32.956334Z"
    }
   },
   "outputs": [
    {
     "name": "stdout",
     "output_type": "stream",
     "text": [
      "# Tuning hyper-parameters for f1\n",
      "\n",
      "Best parameters set found on development set:\n",
      "\n",
      "{'var_smoothing': 1e-09}\n",
      "\n",
      "Grid scores on development set:\n",
      "\n",
      "0.775 (+/-0.199) for {'var_smoothing': 1e-09}\n",
      "0.710 (+/-0.115) for {'var_smoothing': 0.001}\n",
      "0.763 (+/-0.130) for {'var_smoothing': 0.0001}\n",
      "\n",
      "Detailed classification report:\n",
      "\n",
      "The model is trained on the full development set.\n",
      "The scores are computed on the full evaluation set.\n",
      "\n",
      "              precision    recall  f1-score   support\n",
      "\n",
      "           0       0.88      0.91      0.90        33\n",
      "           1       0.93      0.91      0.92        43\n",
      "\n",
      "    accuracy                           0.91        76\n",
      "   macro avg       0.91      0.91      0.91        76\n",
      "weighted avg       0.91      0.91      0.91        76\n",
      "\n",
      "\n"
     ]
    }
   ],
   "source": [
    "import pandas as pd\n",
    "import numpy as np\n",
    "from datetime import timedelta, date\n",
    "import datetime as dt\n",
    "\n",
    "heart = pd.read_csv('data/datasets_33180_43520_heart.csv', sep = ',')\n",
    "\n",
    "#https://scikit-learn.org/stable/auto_examples/model_selection/plot_grid_search_digits.html#sphx-glr-auto-examples-model-selection-plot-grid-search-digits-py\n",
    "import sys\n",
    "sys.path.append('./ml_helper')\n",
    "import ml_helper_train_model as model_train\n",
    "import ml_helper_serialize_model as serializer\n",
    "from sklearn.naive_bayes import GaussianNB\n",
    "\n",
    "\n",
    "\n",
    "X = heart.loc[:, heart.columns != 'target']\n",
    "y = heart.target\n",
    "\n",
    "\n",
    "tuned_parameters = [\n",
    "                    {'var_smoothing':[1e-9,1e-3, 1e-4]}\n",
    "                   ]\n",
    "\n",
    "\n",
    "model = model_train.train_model(predictors = X,\n",
    "                                target = y,\n",
    "                                folds = 10,\n",
    "                                param_to_be_tunned = tuned_parameters,\n",
    "                                estimator = GaussianNB())\n",
    "\n",
    "serializer.serialize_model(model = model, file_name = 'model/NaiveBayes_heart.pkl')\n",
    "\n"
   ]
  },
  {
   "cell_type": "code",
   "execution_count": null,
   "metadata": {},
   "outputs": [],
   "source": []
  },
  {
   "cell_type": "code",
   "execution_count": null,
   "metadata": {},
   "outputs": [],
   "source": []
  },
  {
   "cell_type": "markdown",
   "metadata": {},
   "source": [
    "# Decision Tree"
   ]
  },
  {
   "cell_type": "code",
   "execution_count": 29,
   "metadata": {
    "ExecuteTime": {
     "end_time": "2020-08-09T22:39:26.976079Z",
     "start_time": "2020-08-09T22:39:26.893586Z"
    }
   },
   "outputs": [
    {
     "name": "stdout",
     "output_type": "stream",
     "text": [
      "# Tuning hyper-parameters for f1\n",
      "\n",
      "Best parameters set found on development set:\n",
      "\n",
      "{'criterion': 'gini', 'max_depth': None, 'min_samples_split': 2, 'splitter': 'best'}\n",
      "\n",
      "Grid scores on development set:\n",
      "\n",
      "0.782 (+/-0.140) for {'criterion': 'gini', 'max_depth': None, 'min_samples_split': 2, 'splitter': 'best'}\n",
      "\n",
      "Detailed classification report:\n",
      "\n",
      "The model is trained on the full development set.\n",
      "The scores are computed on the full evaluation set.\n",
      "\n",
      "              precision    recall  f1-score   support\n",
      "\n",
      "           0       0.79      0.70      0.74        33\n",
      "           1       0.79      0.86      0.82        43\n",
      "\n",
      "    accuracy                           0.79        76\n",
      "   macro avg       0.79      0.78      0.78        76\n",
      "weighted avg       0.79      0.79      0.79        76\n",
      "\n",
      "\n"
     ]
    }
   ],
   "source": [
    "import pandas as pd\n",
    "import numpy as np\n",
    "from datetime import timedelta, date\n",
    "import datetime as dt\n",
    "\n",
    "heart = pd.read_csv('data/datasets_33180_43520_heart.csv', sep = ',')\n",
    "\n",
    "#https://scikit-learn.org/stable/auto_examples/model_selection/plot_grid_search_digits.html#sphx-glr-auto-examples-model-selection-plot-grid-search-digits-py\n",
    "import sys\n",
    "sys.path.append('./ml_helper')\n",
    "import ml_helper_train_model as model_train\n",
    "import ml_helper_serialize_model as serializer\n",
    "from sklearn import tree\n",
    "\n",
    "\n",
    "\n",
    "X = heart.loc[:, heart.columns != 'target']\n",
    "y = heart.target\n",
    "\n",
    "# criterion='gini', splitter='best', max_depth=None, min_samples_split=2, \n",
    "# min_samples_leaf=1, min_weight_fraction_leaf=0.0, max_features=None, \n",
    "# random_state=None, max_leaf_nodes=None, min_impurity_decrease=0.0, \n",
    "# min_impurity_split=None, class_weight=None, presort='deprecated', ccp_alpha=0.0\n",
    "\n",
    "tuned_parameters = [\n",
    "                    {'criterion':['gini'], 'splitter':['best'], 'max_depth':[None], 'min_samples_split':[2]}\n",
    "                   ]\n",
    "\n",
    "\n",
    "model = model_train.train_model(predictors = X,\n",
    "                                target = y,\n",
    "                                folds = 10,\n",
    "                                param_to_be_tunned = tuned_parameters,\n",
    "                                estimator = tree.DecisionTreeClassifier())\n",
    "\n",
    "serializer.serialize_model(model = model, file_name = 'model/DT_heart.pkl')\n",
    "\n"
   ]
  },
  {
   "cell_type": "code",
   "execution_count": null,
   "metadata": {},
   "outputs": [],
   "source": []
  },
  {
   "cell_type": "code",
   "execution_count": null,
   "metadata": {},
   "outputs": [],
   "source": []
  },
  {
   "cell_type": "markdown",
   "metadata": {},
   "source": [
    "# KNN"
   ]
  },
  {
   "cell_type": "code",
   "execution_count": 31,
   "metadata": {
    "ExecuteTime": {
     "end_time": "2020-08-09T22:51:05.158069Z",
     "start_time": "2020-08-09T22:51:04.821329Z"
    }
   },
   "outputs": [
    {
     "name": "stdout",
     "output_type": "stream",
     "text": [
      "# Tuning hyper-parameters for f1\n",
      "\n",
      "Best parameters set found on development set:\n",
      "\n",
      "{'n_neighbors': 20, 'weights': 'distance'}\n",
      "\n",
      "Grid scores on development set:\n",
      "\n",
      "0.562 (+/-0.123) for {'n_neighbors': 5, 'weights': 'uniform'}\n",
      "0.564 (+/-0.148) for {'n_neighbors': 5, 'weights': 'distance'}\n",
      "0.568 (+/-0.186) for {'n_neighbors': 10, 'weights': 'uniform'}\n",
      "0.581 (+/-0.186) for {'n_neighbors': 10, 'weights': 'distance'}\n",
      "0.612 (+/-0.153) for {'n_neighbors': 20, 'weights': 'uniform'}\n",
      "0.640 (+/-0.133) for {'n_neighbors': 20, 'weights': 'distance'}\n",
      "\n",
      "Detailed classification report:\n",
      "\n",
      "The model is trained on the full development set.\n",
      "The scores are computed on the full evaluation set.\n",
      "\n",
      "              precision    recall  f1-score   support\n",
      "\n",
      "           0       0.66      0.70      0.68        33\n",
      "           1       0.76      0.72      0.74        43\n",
      "\n",
      "    accuracy                           0.71        76\n",
      "   macro avg       0.71      0.71      0.71        76\n",
      "weighted avg       0.71      0.71      0.71        76\n",
      "\n",
      "\n"
     ]
    }
   ],
   "source": [
    "import pandas as pd\n",
    "import numpy as np\n",
    "from datetime import timedelta, date\n",
    "import datetime as dt\n",
    "\n",
    "heart = pd.read_csv('data/datasets_33180_43520_heart.csv', sep = ',')\n",
    "\n",
    "#https://scikit-learn.org/stable/auto_examples/model_selection/plot_grid_search_digits.html#sphx-glr-auto-examples-model-selection-plot-grid-search-digits-py\n",
    "import sys\n",
    "sys.path.append('./ml_helper')\n",
    "import ml_helper_train_model as model_train\n",
    "import ml_helper_serialize_model as serializer\n",
    "from sklearn import neighbors\n",
    "\n",
    "\n",
    "\n",
    "X = heart.loc[:, heart.columns != 'target']\n",
    "y = heart.target\n",
    "\n",
    "\n",
    "tuned_parameters = [\n",
    "                    {'n_neighbors':[5, 10, 20], 'weights':['uniform', 'distance'], }\n",
    "                    ]\n",
    "\n",
    "\n",
    "model = model_train.train_model(predictors = X,\n",
    "                                target = y,\n",
    "                                folds = 10,\n",
    "                                param_to_be_tunned = tuned_parameters,\n",
    "                                estimator = neighbors.KNeighborsClassifier())\n",
    "\n",
    "serializer.serialize_model(model = model, file_name = 'model/KNN_heart.pkl')\n",
    "\n"
   ]
  },
  {
   "cell_type": "code",
   "execution_count": null,
   "metadata": {},
   "outputs": [],
   "source": []
  },
  {
   "cell_type": "code",
   "execution_count": null,
   "metadata": {},
   "outputs": [],
   "source": []
  },
  {
   "cell_type": "markdown",
   "metadata": {},
   "source": [
    "# RidgeClassifier"
   ]
  },
  {
   "cell_type": "code",
   "execution_count": 38,
   "metadata": {
    "ExecuteTime": {
     "end_time": "2020-08-09T23:23:57.296016Z",
     "start_time": "2020-08-09T23:23:57.022035Z"
    },
    "scrolled": false
   },
   "outputs": [
    {
     "name": "stdout",
     "output_type": "stream",
     "text": [
      "# Tuning hyper-parameters for f1\n",
      "\n",
      "Best parameters set found on development set:\n",
      "\n",
      "{'alpha': 1.0}\n",
      "\n",
      "Grid scores on development set:\n",
      "\n",
      "0.791 (+/-0.145) for {'alpha': 1.0}\n",
      "0.787 (+/-0.138) for {'alpha': 0.5}\n",
      "0.791 (+/-0.145) for {'alpha': 2.0}\n",
      "\n",
      "Detailed classification report:\n",
      "\n",
      "The model is trained on the full development set.\n",
      "The scores are computed on the full evaluation set.\n",
      "\n",
      "              precision    recall  f1-score   support\n",
      "\n",
      "           0       0.93      0.82      0.87        33\n",
      "           1       0.87      0.95      0.91        43\n",
      "\n",
      "    accuracy                           0.89        76\n",
      "   macro avg       0.90      0.89      0.89        76\n",
      "weighted avg       0.90      0.89      0.89        76\n",
      "\n",
      "\n"
     ]
    }
   ],
   "source": [
    "import pandas as pd\n",
    "import numpy as np\n",
    "from datetime import timedelta, date\n",
    "import datetime as dt\n",
    "\n",
    "heart = pd.read_csv('data/datasets_33180_43520_heart.csv', sep = ',')\n",
    "\n",
    "#https://scikit-learn.org/stable/auto_examples/model_selection/plot_grid_search_digits.html#sphx-glr-auto-examples-model-selection-plot-grid-search-digits-py\n",
    "import sys\n",
    "sys.path.append('./ml_helper')\n",
    "import ml_helper_train_model as model_train\n",
    "import ml_helper_serialize_model as serializer\n",
    "from sklearn.linear_model import RidgeClassifier\n",
    "\n",
    "X = heart.loc[:, heart.columns != 'target']\n",
    "y = heart.target\n",
    "\n",
    "# alpha=1, *, kernel='linear', gamma=None, degree=3, coef0=1, kernel_params=None\n",
    "# [‘additive_chi2’, ‘chi2’, ‘linear’, ‘poly’, ‘polynomial’, ‘rbf’, ‘laplacian’, ‘sigmoid’, ‘cosine’]\n",
    "\n",
    "tuned_parameters = [\n",
    "                    {'alpha':[1.0, 0.5, 2.0]}\n",
    "                    ]\n",
    "\n",
    "\n",
    "model = model_train.train_model(predictors = X,\n",
    "                                target = y,\n",
    "                                folds = 10,\n",
    "                                param_to_be_tunned = tuned_parameters,\n",
    "                                estimator = RidgeClassifier())\n",
    "\n",
    "serializer.serialize_model(model = model, file_name = 'model/KernelRidge_heart.pkl')"
   ]
  },
  {
   "cell_type": "code",
   "execution_count": null,
   "metadata": {},
   "outputs": [],
   "source": []
  },
  {
   "cell_type": "markdown",
   "metadata": {},
   "source": [
    "# Gaussian Process"
   ]
  },
  {
   "cell_type": "code",
   "execution_count": 39,
   "metadata": {
    "ExecuteTime": {
     "end_time": "2020-08-10T00:18:30.334285Z",
     "start_time": "2020-08-10T00:18:27.853416Z"
    }
   },
   "outputs": [
    {
     "name": "stdout",
     "output_type": "stream",
     "text": [
      "# Tuning hyper-parameters for f1\n",
      "\n",
      "Best parameters set found on development set:\n",
      "\n",
      "{'kernel': 1**2 * RBF(length_scale=1), 'optimizer': 'fmin_l_bfgs_b'}\n",
      "\n",
      "Grid scores on development set:\n",
      "\n",
      "0.554 (+/-0.228) for {'kernel': 1**2 * RBF(length_scale=1), 'optimizer': 'fmin_l_bfgs_b'}\n",
      "\n",
      "Detailed classification report:\n",
      "\n",
      "The model is trained on the full development set.\n",
      "The scores are computed on the full evaluation set.\n",
      "\n",
      "              precision    recall  f1-score   support\n",
      "\n",
      "           0       0.51      0.58      0.54        33\n",
      "           1       0.64      0.58      0.61        43\n",
      "\n",
      "    accuracy                           0.58        76\n",
      "   macro avg       0.58      0.58      0.58        76\n",
      "weighted avg       0.59      0.58      0.58        76\n",
      "\n",
      "\n"
     ]
    }
   ],
   "source": [
    "import pandas as pd\n",
    "import numpy as np\n",
    "from datetime import timedelta, date\n",
    "import datetime as dt\n",
    "\n",
    "heart = pd.read_csv('data/datasets_33180_43520_heart.csv', sep = ',')\n",
    "\n",
    "#https://scikit-learn.org/stable/auto_examples/model_selection/plot_grid_search_digits.html#sphx-glr-auto-examples-model-selection-plot-grid-search-digits-py\n",
    "import sys\n",
    "sys.path.append('./ml_helper')\n",
    "import ml_helper_train_model as model_train\n",
    "import ml_helper_serialize_model as serializer\n",
    "from sklearn.gaussian_process import GaussianProcessClassifier\n",
    "from sklearn.gaussian_process.kernels import RBF\n",
    "\n",
    "X = heart.loc[:, heart.columns != 'target']\n",
    "y = heart.target\n",
    "\n",
    "kernel = 1.0 * RBF(1.0)\n",
    "tuned_parameters = [\n",
    "                    { 'kernel':[kernel], 'optimizer': ['fmin_l_bfgs_b'] }\n",
    "                   ]\n",
    "\n",
    "\n",
    "model = model_train.train_model(predictors = X,\n",
    "                                target = y,\n",
    "                                folds = 10,\n",
    "                                param_to_be_tunned = tuned_parameters,\n",
    "                                estimator = GaussianProcessClassifier())\n",
    "\n",
    "serializer.serialize_model(model = model, file_name = 'model/GaussianProcessClassifier_heart.pkl')"
   ]
  },
  {
   "cell_type": "code",
   "execution_count": null,
   "metadata": {},
   "outputs": [],
   "source": []
  },
  {
   "cell_type": "code",
   "execution_count": null,
   "metadata": {},
   "outputs": [],
   "source": []
  },
  {
   "cell_type": "code",
   "execution_count": null,
   "metadata": {},
   "outputs": [],
   "source": []
  }
 ],
 "metadata": {
  "kernelspec": {
   "display_name": "Python 3",
   "language": "python",
   "name": "python3"
  },
  "language_info": {
   "codemirror_mode": {
    "name": "ipython",
    "version": 3
   },
   "file_extension": ".py",
   "mimetype": "text/x-python",
   "name": "python",
   "nbconvert_exporter": "python",
   "pygments_lexer": "ipython3",
   "version": "3.6.5"
  }
 },
 "nbformat": 4,
 "nbformat_minor": 2
}
