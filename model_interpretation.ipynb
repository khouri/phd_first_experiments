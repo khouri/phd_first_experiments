{
 "cells": [
  {
   "cell_type": "markdown",
   "metadata": {},
   "source": [
    "# The interpretations using LIME"
   ]
  },
  {
   "cell_type": "markdown",
   "metadata": {},
   "source": [
    "# Heart dataset"
   ]
  },
  {
   "cell_type": "code",
   "execution_count": 1,
   "metadata": {
    "ExecuteTime": {
     "end_time": "2020-10-07T23:31:08.384332Z",
     "start_time": "2020-10-07T23:31:07.826101Z"
    }
   },
   "outputs": [],
   "source": [
    "import pandas as pd\n",
    "import numpy as np\n",
    "from datetime import timedelta, date\n",
    "import datetime as dt\n",
    "\n",
    "\n",
    "heart = pd.read_csv('data/datasets_33180_43520_heart.csv', sep = ',')\n",
    "\n",
    "# LIME requires numpy.ndarray with all features with the same type\n",
    "heart['age'] = heart['age'].astype(np.float64)\n",
    "heart['sex'] = heart['sex'].astype(np.float64)\n",
    "heart['cp'] = heart['cp'].astype(np.float64)\n",
    "heart['trestbps'] = heart['trestbps'].astype(np.float64)\n",
    "heart['chol'] = heart['chol'].astype(np.float64)\n",
    "heart['fbs'] = heart['fbs'].astype(np.float64)\n",
    "heart['restecg'] = heart['restecg'].astype(np.float64)\n",
    "heart['thalach'] = heart['thalach'].astype(np.float64)\n",
    "heart['exang'] = heart['exang'].astype(np.float64)\n",
    "heart['oldpeak'] = heart['oldpeak'].astype(np.float64)\n",
    "heart['slope'] = heart['slope'].astype(np.float64)\n",
    "heart['ca'] = heart['ca'].astype(np.float64)\n",
    "heart['thal'] = heart['thal'].astype(np.float64)\n"
   ]
  },
  {
   "cell_type": "code",
   "execution_count": null,
   "metadata": {},
   "outputs": [],
   "source": []
  },
  {
   "cell_type": "code",
   "execution_count": null,
   "metadata": {},
   "outputs": [],
   "source": []
  },
  {
   "cell_type": "markdown",
   "metadata": {
    "ExecuteTime": {
     "end_time": "2020-10-07T16:46:35.990489Z",
     "start_time": "2020-10-07T16:46:35.978281Z"
    }
   },
   "source": [
    "# Diabetes dataset"
   ]
  },
  {
   "cell_type": "code",
   "execution_count": 2,
   "metadata": {
    "ExecuteTime": {
     "end_time": "2020-10-07T23:31:08.403088Z",
     "start_time": "2020-10-07T23:31:08.386714Z"
    }
   },
   "outputs": [],
   "source": [
    "import pandas as pd\n",
    "import numpy as np\n",
    "from datetime import timedelta, date\n",
    "import datetime as dt\n",
    "\n",
    "wine = pd.read_csv('data/wine_limpo.csv', sep = ',')\n",
    "wine.drop(['Unnamed: 0'], axis = 1, inplace = True)\n",
    "\n",
    "# LIME requires numpy.ndarray with all features with the same type\n",
    "wine['fixed acidity'] = wine['fixed acidity'].astype(np.float64)\n",
    "wine['volatile acidity'] = wine['volatile acidity'].astype(np.float64)\n",
    "wine['citric acid'] = wine['citric acid'].astype(np.float64)\n",
    "wine['residual sugar'] = wine['residual sugar'].astype(np.float64)\n",
    "wine['chlorides'] = wine['chlorides'].astype(np.float64)\n",
    "wine['free sulfur dioxide'] = wine['free sulfur dioxide'].astype(np.float64)\n",
    "wine['total sulfur dioxide'] = wine['total sulfur dioxide'].astype(np.float64)\n",
    "wine['density'] = wine['density'].astype(np.float64)\n",
    "wine['pH'] = wine['pH'].astype(np.float64)\n",
    "wine['sulphates'] = wine['sulphates'].astype(np.float64)\n",
    "wine['alcohol'] = wine['alcohol'].astype(np.float64)"
   ]
  },
  {
   "cell_type": "code",
   "execution_count": null,
   "metadata": {},
   "outputs": [],
   "source": []
  },
  {
   "cell_type": "code",
   "execution_count": null,
   "metadata": {},
   "outputs": [],
   "source": []
  },
  {
   "cell_type": "markdown",
   "metadata": {},
   "source": [
    "# Wine dataset"
   ]
  },
  {
   "cell_type": "code",
   "execution_count": 3,
   "metadata": {
    "ExecuteTime": {
     "end_time": "2020-10-07T23:31:08.421841Z",
     "start_time": "2020-10-07T23:31:08.406769Z"
    }
   },
   "outputs": [],
   "source": [
    "import pandas as pd\n",
    "import numpy as np\n",
    "from datetime import timedelta, date\n",
    "import datetime as dt\n",
    "\n",
    "diabetes = pd.read_csv('data/diabetes_limpo.csv', sep = ',')\n",
    "diabetes.drop(['Unnamed: 0'], axis = 1, inplace = True)\n",
    "\n",
    "# LIME requires numpy.ndarray with all features with the same type\n",
    "diabetes['Pregnancies'] = diabetes['Pregnancies'].astype(np.float64)\n",
    "diabetes['Glucose'] = diabetes['Glucose'].astype(np.float64)\n",
    "diabetes['BloodPressure'] = diabetes['BloodPressure'].astype(np.float64)\n",
    "diabetes['SkinThickness'] = diabetes['SkinThickness'].astype(np.float64)\n",
    "diabetes['Insulin'] = diabetes['Insulin'].astype(np.float64)\n",
    "diabetes['BMI'] = diabetes['BMI'].astype(np.float64)\n",
    "diabetes['DiabetesPedigreeFunction'] = diabetes['DiabetesPedigreeFunction'].astype(np.float64)\n",
    "diabetes['Age'] = diabetes['Age'].astype(np.float64)\n"
   ]
  },
  {
   "cell_type": "code",
   "execution_count": null,
   "metadata": {},
   "outputs": [],
   "source": []
  },
  {
   "cell_type": "code",
   "execution_count": null,
   "metadata": {},
   "outputs": [],
   "source": []
  },
  {
   "cell_type": "markdown",
   "metadata": {},
   "source": [
    "# LIME "
   ]
  },
  {
   "cell_type": "markdown",
   "metadata": {},
   "source": [
    "## Choosing 4 instances (TP, FP, TN, FN) of each dataset randomly from DT to be our baseline"
   ]
  },
  {
   "cell_type": "markdown",
   "metadata": {},
   "source": [
    "Code to choose 4 instances (TP, FP, TN, FN) of each dataset randomly, we have choosed the decision tree as the baseline classificator to choose the confusion matrix metrics"
   ]
  },
  {
   "cell_type": "markdown",
   "metadata": {},
   "source": [
    "### Get the samples from the baseline"
   ]
  },
  {
   "cell_type": "code",
   "execution_count": 5,
   "metadata": {
    "ExecuteTime": {
     "end_time": "2020-10-08T01:04:54.916540Z",
     "start_time": "2020-10-08T01:04:53.547214Z"
    }
   },
   "outputs": [],
   "source": [
    "import numpy as np\n",
    "import pandas as pd\n",
    "import lime\n",
    "import lime.lime_tabular\n",
    "import sys\n",
    "sys.path.append('./ml_helper')\n",
    "import ml_helper_train_model as model_train\n",
    "import ml_helper_serialize_model as serializer\n",
    "sys.path.append('./explanation_helper')\n",
    "import expla_helper as explanation\n",
    "from sklearn.model_selection import train_test_split\n",
    "\n",
    "np.random.seed(1)\n",
    "\n",
    "heart = pd.read_csv('data/datasets_33180_43520_heart.csv', sep = ',')\n",
    "model = serializer.load_model(file_name = 'serialized_model/DT_heart.pkl')\n",
    "\n",
    "heart_index = explanation.sample_baseline_model(model, heart)\n",
    "# print(heart_index)\n",
    "\n",
    "wine = pd.read_csv('data/wine_limpo.csv', sep = ',')\n",
    "model = serializer.load_model(file_name = 'serialized_model/DT_wine.pkl')\n",
    "\n",
    "wine_index = explanation.sample_baseline_model(model, wine)\n",
    "# print(wine_index)\n",
    "\n",
    "diabetes = pd.read_csv('data/diabetes_limpo.csv', sep = ',')\n",
    "model = serializer.load_model(file_name = 'serialized_model/DT_diabetes.pkl')\n",
    "\n",
    "diabetes_index = explanation.sample_baseline_model(model, diabetes)\n",
    "# print(diabetes_index)"
   ]
  },
  {
   "cell_type": "code",
   "execution_count": null,
   "metadata": {},
   "outputs": [],
   "source": []
  },
  {
   "cell_type": "code",
   "execution_count": null,
   "metadata": {},
   "outputs": [],
   "source": []
  },
  {
   "cell_type": "markdown",
   "metadata": {},
   "source": [
    "## MLP"
   ]
  },
  {
   "cell_type": "markdown",
   "metadata": {},
   "source": [
    "### Heart dataset - instance 01"
   ]
  },
  {
   "cell_type": "code",
   "execution_count": 9,
   "metadata": {
    "ExecuteTime": {
     "end_time": "2020-10-07T23:31:12.560451Z",
     "start_time": "2020-10-07T23:31:12.088327Z"
    }
   },
   "outputs": [],
   "source": [
    "# import numpy as np\n",
    "import lime\n",
    "import lime.lime_tabular\n",
    "import sys\n",
    "sys.path.append('./ml_helper')\n",
    "import ml_helper_train_model as model_train\n",
    "import ml_helper_serialize_model as serializer\n",
    "from sklearn.model_selection import train_test_split\n",
    "\n",
    "\n",
    "model_file_name = 'serialized_model/MLP_heart.pkl'\n",
    "model = serializer.load_model(model_file_name)\n",
    "\n",
    "dataset = heart.copy(deep = True)\n",
    "target_names = np.array(['doente', 'saudável'])\n",
    "\n",
    "folder = 'explanation/'\n",
    "model_dataset = model_file_name.replace('serialized_model/','').replace('.pkl', '')\n",
    "instance_index = heart_index[0]\n",
    "num_features = dataset.columns.size - 1 #removing the target\n",
    "\n",
    "output_file = \"\"\"{0}{1}_instance_{2}_num_features_{3}.html\"\"\".format(folder, \n",
    "                                                                      model_dataset, \n",
    "                                                                      instance_index, \n",
    "                                                                      num_features)\n",
    "\n",
    "explain_it(model, \n",
    "           dataset, \n",
    "           np.array(['doente', 'saudável']), \n",
    "           num_features, \n",
    "           instance_index, \n",
    "           output_file)"
   ]
  },
  {
   "cell_type": "markdown",
   "metadata": {},
   "source": [
    "### Heart dataset - instance 02"
   ]
  },
  {
   "cell_type": "code",
   "execution_count": 10,
   "metadata": {
    "ExecuteTime": {
     "end_time": "2020-10-07T23:31:13.009741Z",
     "start_time": "2020-10-07T23:31:12.562908Z"
    }
   },
   "outputs": [],
   "source": [
    "# import numpy as np\n",
    "import lime\n",
    "import lime.lime_tabular\n",
    "import sys\n",
    "sys.path.append('./ml_helper')\n",
    "import ml_helper_train_model as model_train\n",
    "import ml_helper_serialize_model as serializer\n",
    "from sklearn.model_selection import train_test_split\n",
    "# MLP_diabetes.pkl\n",
    "# MLP_wine.pkl\n",
    "\n",
    "model_file_name = 'serialized_model/MLP_heart.pkl'\n",
    "model = serializer.load_model(model_file_name)\n",
    "\n",
    "dataset = heart.copy(deep = True)\n",
    "target_names = np.array(['doente', 'saudável'])\n",
    "\n",
    "folder = 'explanation/'\n",
    "model_dataset = model_file_name.replace('serialized_model/','').replace('.pkl', '')\n",
    "instance_index = heart_index[1]\n",
    "num_features = dataset.columns.size - 1 #removing the target\n",
    "\n",
    "output_file = \"\"\"{0}{1}_instance_{2}_num_features_{3}.html\"\"\".format(folder, \n",
    "                                                                      model_dataset, \n",
    "                                                                      instance_index, \n",
    "                                                                      num_features)\n",
    "\n",
    "explain_it(model, \n",
    "           dataset, \n",
    "           np.array(['doente', 'saudável']), \n",
    "           num_features, \n",
    "           instance_index, \n",
    "           output_file)"
   ]
  },
  {
   "cell_type": "markdown",
   "metadata": {},
   "source": [
    "### Heart dataset - instance 03"
   ]
  },
  {
   "cell_type": "code",
   "execution_count": 11,
   "metadata": {
    "ExecuteTime": {
     "end_time": "2020-10-07T23:31:13.438354Z",
     "start_time": "2020-10-07T23:31:13.011917Z"
    }
   },
   "outputs": [],
   "source": [
    "# import numpy as np\n",
    "import lime\n",
    "import lime.lime_tabular\n",
    "import sys\n",
    "sys.path.append('./ml_helper')\n",
    "import ml_helper_train_model as model_train\n",
    "import ml_helper_serialize_model as serializer\n",
    "from sklearn.model_selection import train_test_split\n",
    "# MLP_diabetes.pkl\n",
    "# MLP_wine.pkl\n",
    "\n",
    "model_file_name = 'serialized_model/MLP_heart.pkl'\n",
    "model = serializer.load_model(model_file_name)\n",
    "\n",
    "dataset = heart.copy(deep = True)\n",
    "target_names = np.array(['doente', 'saudável'])\n",
    "\n",
    "folder = 'explanation/'\n",
    "model_dataset = model_file_name.replace('serialized_model/','').replace('.pkl', '')\n",
    "instance_index = heart_index[2]\n",
    "num_features = dataset.columns.size - 1 #removing the target\n",
    "\n",
    "output_file = \"\"\"{0}{1}_instance_{2}_num_features_{3}.html\"\"\".format(folder, \n",
    "                                                                      model_dataset, \n",
    "                                                                      instance_index, \n",
    "                                                                      num_features)\n",
    "\n",
    "explain_it(model, \n",
    "           dataset, \n",
    "           np.array(['doente', 'saudável']), \n",
    "           num_features, \n",
    "           instance_index, \n",
    "           output_file)"
   ]
  },
  {
   "cell_type": "markdown",
   "metadata": {},
   "source": [
    "### Heart dataset - instance 04"
   ]
  },
  {
   "cell_type": "code",
   "execution_count": 12,
   "metadata": {
    "ExecuteTime": {
     "end_time": "2020-10-07T23:31:13.872811Z",
     "start_time": "2020-10-07T23:31:13.440487Z"
    }
   },
   "outputs": [],
   "source": [
    "# import numpy as np\n",
    "import lime\n",
    "import lime.lime_tabular\n",
    "import sys\n",
    "sys.path.append('./ml_helper')\n",
    "import ml_helper_train_model as model_train\n",
    "import ml_helper_serialize_model as serializer\n",
    "from sklearn.model_selection import train_test_split\n",
    "# MLP_diabetes.pkl\n",
    "# MLP_wine.pkl\n",
    "\n",
    "model_file_name = 'serialized_model/MLP_heart.pkl'\n",
    "model = serializer.load_model(model_file_name)\n",
    "\n",
    "dataset = heart.copy(deep = True)\n",
    "target_names = np.array(['doente', 'saudável'])\n",
    "\n",
    "folder = 'explanation/'\n",
    "model_dataset = model_file_name.replace('serialized_model/','').replace('.pkl', '')\n",
    "instance_index = heart_index[3]\n",
    "num_features = dataset.columns.size - 1 #removing the target\n",
    "\n",
    "output_file = \"\"\"{0}{1}_instance_{2}_num_features_{3}.html\"\"\".format(folder, \n",
    "                                                                      model_dataset, \n",
    "                                                                      instance_index, \n",
    "                                                                      num_features)\n",
    "\n",
    "explain_it(model, \n",
    "           dataset, \n",
    "           np.array(['doente', 'saudável']), \n",
    "           num_features, \n",
    "           instance_index, \n",
    "           output_file)"
   ]
  },
  {
   "cell_type": "code",
   "execution_count": null,
   "metadata": {},
   "outputs": [],
   "source": []
  },
  {
   "cell_type": "code",
   "execution_count": null,
   "metadata": {},
   "outputs": [],
   "source": []
  },
  {
   "cell_type": "markdown",
   "metadata": {},
   "source": [
    "### Wine dataset"
   ]
  },
  {
   "cell_type": "code",
   "execution_count": null,
   "metadata": {},
   "outputs": [],
   "source": []
  },
  {
   "cell_type": "markdown",
   "metadata": {},
   "source": [
    "### Diabetes dataset"
   ]
  },
  {
   "cell_type": "code",
   "execution_count": null,
   "metadata": {},
   "outputs": [],
   "source": []
  },
  {
   "cell_type": "code",
   "execution_count": null,
   "metadata": {},
   "outputs": [],
   "source": []
  },
  {
   "cell_type": "markdown",
   "metadata": {},
   "source": [
    "## Random Forest"
   ]
  },
  {
   "cell_type": "markdown",
   "metadata": {},
   "source": [
    "### Heart dataset"
   ]
  },
  {
   "cell_type": "code",
   "execution_count": null,
   "metadata": {},
   "outputs": [],
   "source": []
  },
  {
   "cell_type": "markdown",
   "metadata": {},
   "source": [
    "### Wine dataset"
   ]
  },
  {
   "cell_type": "code",
   "execution_count": null,
   "metadata": {},
   "outputs": [],
   "source": []
  },
  {
   "cell_type": "markdown",
   "metadata": {},
   "source": [
    "### Diabetes dataset"
   ]
  },
  {
   "cell_type": "code",
   "execution_count": null,
   "metadata": {},
   "outputs": [],
   "source": []
  },
  {
   "cell_type": "code",
   "execution_count": null,
   "metadata": {},
   "outputs": [],
   "source": []
  },
  {
   "cell_type": "markdown",
   "metadata": {},
   "source": [
    "## Naive Bayes"
   ]
  },
  {
   "cell_type": "markdown",
   "metadata": {},
   "source": [
    "### Heart dataset"
   ]
  },
  {
   "cell_type": "code",
   "execution_count": null,
   "metadata": {},
   "outputs": [],
   "source": []
  },
  {
   "cell_type": "markdown",
   "metadata": {},
   "source": [
    "### Wine dataset"
   ]
  },
  {
   "cell_type": "code",
   "execution_count": null,
   "metadata": {},
   "outputs": [],
   "source": []
  },
  {
   "cell_type": "markdown",
   "metadata": {},
   "source": [
    "### Diabetes dataset"
   ]
  },
  {
   "cell_type": "code",
   "execution_count": null,
   "metadata": {},
   "outputs": [],
   "source": []
  },
  {
   "cell_type": "code",
   "execution_count": null,
   "metadata": {},
   "outputs": [],
   "source": []
  },
  {
   "cell_type": "markdown",
   "metadata": {},
   "source": [
    "## Decision Tree"
   ]
  },
  {
   "cell_type": "markdown",
   "metadata": {},
   "source": [
    "### Heart dataset"
   ]
  },
  {
   "cell_type": "markdown",
   "metadata": {},
   "source": [
    "### Wine dataset"
   ]
  },
  {
   "cell_type": "markdown",
   "metadata": {},
   "source": [
    "### Diabetes dataset"
   ]
  },
  {
   "cell_type": "code",
   "execution_count": null,
   "metadata": {},
   "outputs": [],
   "source": []
  },
  {
   "cell_type": "code",
   "execution_count": null,
   "metadata": {},
   "outputs": [],
   "source": []
  },
  {
   "cell_type": "markdown",
   "metadata": {},
   "source": [
    "## KNN"
   ]
  },
  {
   "cell_type": "markdown",
   "metadata": {},
   "source": [
    "### Heart dataset"
   ]
  },
  {
   "cell_type": "markdown",
   "metadata": {},
   "source": [
    "### Wine dataset"
   ]
  },
  {
   "cell_type": "markdown",
   "metadata": {},
   "source": [
    "### Diabetes dataset"
   ]
  },
  {
   "cell_type": "code",
   "execution_count": null,
   "metadata": {},
   "outputs": [],
   "source": []
  },
  {
   "cell_type": "code",
   "execution_count": null,
   "metadata": {},
   "outputs": [],
   "source": []
  },
  {
   "cell_type": "markdown",
   "metadata": {},
   "source": [
    "## Gaussian Process"
   ]
  },
  {
   "cell_type": "markdown",
   "metadata": {},
   "source": [
    "### Heart dataset"
   ]
  },
  {
   "cell_type": "markdown",
   "metadata": {},
   "source": [
    "### Wine dataset"
   ]
  },
  {
   "cell_type": "markdown",
   "metadata": {},
   "source": [
    "### Diabetes dataset"
   ]
  },
  {
   "cell_type": "code",
   "execution_count": null,
   "metadata": {},
   "outputs": [],
   "source": []
  },
  {
   "cell_type": "markdown",
   "metadata": {},
   "source": [
    "## SVM"
   ]
  },
  {
   "cell_type": "markdown",
   "metadata": {},
   "source": [
    "### Heart dataset"
   ]
  },
  {
   "cell_type": "markdown",
   "metadata": {},
   "source": [
    "### Wine dataset"
   ]
  },
  {
   "cell_type": "markdown",
   "metadata": {},
   "source": [
    "### Diabetes dataset"
   ]
  },
  {
   "cell_type": "code",
   "execution_count": null,
   "metadata": {},
   "outputs": [],
   "source": []
  },
  {
   "cell_type": "code",
   "execution_count": null,
   "metadata": {},
   "outputs": [],
   "source": []
  },
  {
   "cell_type": "code",
   "execution_count": null,
   "metadata": {},
   "outputs": [],
   "source": []
  },
  {
   "cell_type": "code",
   "execution_count": null,
   "metadata": {},
   "outputs": [],
   "source": []
  },
  {
   "cell_type": "code",
   "execution_count": null,
   "metadata": {},
   "outputs": [],
   "source": []
  },
  {
   "cell_type": "code",
   "execution_count": null,
   "metadata": {},
   "outputs": [],
   "source": []
  },
  {
   "cell_type": "markdown",
   "metadata": {},
   "source": [
    "# SHAP"
   ]
  },
  {
   "cell_type": "code",
   "execution_count": 13,
   "metadata": {
    "ExecuteTime": {
     "end_time": "2020-10-07T23:31:13.877813Z",
     "start_time": "2020-10-07T23:31:13.874933Z"
    }
   },
   "outputs": [],
   "source": [
    "# import sklearn\n",
    "# import shap\n",
    "# from sklearn.model_selection import train_test_split\n",
    "\n",
    "# # print the JS visualization code to the notebook\n",
    "# shap.initjs()\n",
    "\n",
    "# # train a SVM classifier\n",
    "# X_train,X_test,Y_train,Y_test = train_test_split(*shap.datasets.iris(), test_size=0.2, random_state=0)\n",
    "# svm = sklearn.svm.SVC(kernel='rbf', probability=True)\n",
    "# svm.fit(X_train, Y_train)\n",
    "\n",
    "# # use Kernel SHAP to explain test set predictions\n",
    "# explainer = shap.KernelExplainer(svm.predict_proba, X_train, link=\"logit\")\n",
    "# shap_values = explainer.shap_values(X_test, nsamples=100)\n",
    "\n",
    "# # plot the SHAP values for the Setosa output of the first instance\n",
    "# shap.force_plot(explainer.expected_value[0], shap_values[0][0,:], X_test.iloc[0,:], link=\"logit\")\n"
   ]
  },
  {
   "cell_type": "code",
   "execution_count": null,
   "metadata": {},
   "outputs": [],
   "source": []
  },
  {
   "cell_type": "code",
   "execution_count": 14,
   "metadata": {
    "ExecuteTime": {
     "end_time": "2020-10-07T23:31:13.883277Z",
     "start_time": "2020-10-07T23:31:13.880007Z"
    }
   },
   "outputs": [],
   "source": [
    "# shap.force_plot(explainer.expected_value[0], shap_values[0], X_test, link=\"logit\")"
   ]
  },
  {
   "cell_type": "code",
   "execution_count": null,
   "metadata": {},
   "outputs": [],
   "source": []
  },
  {
   "cell_type": "code",
   "execution_count": 15,
   "metadata": {
    "ExecuteTime": {
     "end_time": "2020-10-07T23:31:13.888756Z",
     "start_time": "2020-10-07T23:31:13.885862Z"
    }
   },
   "outputs": [],
   "source": [
    "# shap.summary_plot(shap_values, X_test.iloc[0:1000,:])"
   ]
  },
  {
   "cell_type": "code",
   "execution_count": null,
   "metadata": {},
   "outputs": [],
   "source": []
  },
  {
   "cell_type": "markdown",
   "metadata": {},
   "source": [
    "# Meu exemplo"
   ]
  },
  {
   "cell_type": "code",
   "execution_count": null,
   "metadata": {},
   "outputs": [],
   "source": []
  },
  {
   "cell_type": "code",
   "execution_count": null,
   "metadata": {},
   "outputs": [],
   "source": []
  },
  {
   "cell_type": "code",
   "execution_count": null,
   "metadata": {},
   "outputs": [],
   "source": []
  },
  {
   "cell_type": "code",
   "execution_count": null,
   "metadata": {},
   "outputs": [],
   "source": []
  }
 ],
 "metadata": {
  "kernelspec": {
   "display_name": "Python 3",
   "language": "python",
   "name": "python3"
  },
  "language_info": {
   "codemirror_mode": {
    "name": "ipython",
    "version": 3
   },
   "file_extension": ".py",
   "mimetype": "text/x-python",
   "name": "python",
   "nbconvert_exporter": "python",
   "pygments_lexer": "ipython3",
   "version": "3.6.5"
  }
 },
 "nbformat": 4,
 "nbformat_minor": 2
}
